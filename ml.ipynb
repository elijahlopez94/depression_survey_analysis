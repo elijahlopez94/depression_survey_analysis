{
 "cells": [
  {
   "cell_type": "markdown",
   "metadata": {},
   "source": [
    "# Depression Survey Analysis"
   ]
  },
  {
   "cell_type": "markdown",
   "metadata": {},
   "source": [
    "Author: Elijah Lopez"
   ]
  },
  {
   "cell_type": "markdown",
   "metadata": {},
   "source": [
    "## Overview"
   ]
  },
  {
   "cell_type": "markdown",
   "metadata": {},
   "source": [
    "This is a continuation of work from my [Exploratory Data Analysis Notebook](eda.ipynb) where I analyzed contributing factors to depression risk. In this notebook I tested various machine models across multiple performance metrics, highlighting the importance of 'Recall' for accurately classifiying at-risk individuals. After determining the best performing model, GridSearchCV was used to optimize performance. Finally, I created a Pipeline to efficiently and effectively preprocess survey data for future applications."
   ]
  },
  {
   "cell_type": "markdown",
   "metadata": {},
   "source": [
    "## Data"
   ]
  },
  {
   "cell_type": "code",
   "execution_count": null,
   "metadata": {},
   "outputs": [],
   "source": [
    "# Standard Imports\n",
    "import pandas as pd\n",
    "import numpy as np\n",
    "import matplotlib.pyplot as plt\n",
    "from matplotlib.patches import Patch\n",
    "%matplotlib inline\n",
    "import seaborn as sns\n",
    "sns.set_style('darkgrid')\n",
    "\n",
    "# Machine Learning Preprocessing and Scoring Metrics\n",
    "from sklearn.preprocessing import StandardScaler, OneHotEncoder, FunctionTransformer\n",
    "from sklearn.model_selection import train_test_split, GridSearchCV, cross_validate\n",
    "from sklearn.metrics import accuracy_score, precision_score, recall_score, f1_score, roc_auc_score, confusion_matrix\n",
    "from sklearn.pipeline import Pipeline\n",
    "\n",
    "# Machine Learning Algorithms\n",
    "from sklearn.linear_model import LogisticRegression\n",
    "from sklearn.neighbors import KNeighborsClassifier\n",
    "from sklearn.tree import DecisionTreeClassifier\n",
    "from sklearn.ensemble import RandomForestClassifier, GradientBoostingClassifier\n",
    "from xgboost import XGBClassifier"
   ]
  },
  {
   "cell_type": "code",
   "execution_count": 10,
   "metadata": {},
   "outputs": [],
   "source": [
    "# Import Data\n",
    "df = pd.read_csv('data/depression_data.csv')"
   ]
  },
  {
   "cell_type": "markdown",
   "metadata": {},
   "source": [
    "### Null Values and Data Imputation"
   ]
  },
  {
   "cell_type": "markdown",
   "metadata": {},
   "source": [
    "In the previous notebook we examined each of the null cases to ensure we can impute an appropriate value. We found that:\n",
    "* Nulls in 'academic pressure' are attributed to non-students.\n",
    "* Null in 'work pressure' are attributed to non-working professionals.\n",
    "* Nulls in 'study satisfaction' are attributed to non-students.\n",
    "* Nulls in 'job satisfaction' are attributed to non-working professionals.\n",
    "\n",
    "Because of this we will impute:\n",
    "* 1 for academic pressure, meaning that those that did not respond do not experience academic pressure.\n",
    "* 1 for work pressure, meaning that those that did not respond do not experience work pressure.\n",
    "* 3 for study satisfaction, meaning that those that did not respond will be neutral.\n",
    "* 3 for job satisfaction, meaning that those that did not respond will be neutral."
   ]
  },
  {
   "cell_type": "code",
   "execution_count": 11,
   "metadata": {},
   "outputs": [],
   "source": [
    "# Drop ? from naming convention and replace spaces with underscores.\n",
    "# Also make all columns lower case\n",
    "df.columns = [column.replace(' ?', '').replace(' ', '_').lower() for column in df.columns]\n",
    "\n",
    "df.drop(columns=['name'], inplace=True)"
   ]
  },
  {
   "cell_type": "code",
   "execution_count": 12,
   "metadata": {},
   "outputs": [
    {
     "data": {
      "text/plain": [
       "gender                                    0\n",
       "age                                       0\n",
       "city                                      0\n",
       "working_professional_or_student           0\n",
       "profession                              673\n",
       "academic_pressure                         0\n",
       "work_pressure                             0\n",
       "cgpa                                   2054\n",
       "study_satisfaction                        0\n",
       "job_satisfaction                          0\n",
       "sleep_duration                            0\n",
       "dietary_habits                            0\n",
       "degree                                    0\n",
       "have_you_ever_had_suicidal_thoughts       0\n",
       "work/study_hours                          0\n",
       "financial_stress                          0\n",
       "family_history_of_mental_illness          0\n",
       "depression                                0\n",
       "dtype: int64"
      ]
     },
     "execution_count": 12,
     "metadata": {},
     "output_type": "execute_result"
    }
   ],
   "source": [
    "# Impute values as specified above\n",
    "df.loc[:, 'academic_pressure'].fillna(1, inplace=True)\n",
    "df.loc[:, 'work_pressure'].fillna(1, inplace=True)\n",
    "df.loc[:, 'study_satisfaction'].fillna(3, inplace=True)\n",
    "df.loc[:, 'job_satisfaction'].fillna(3, inplace=True)\n",
    "\n",
    "# Check all values filled as expected\n",
    "df.isna().sum()"
   ]
  },
  {
   "cell_type": "markdown",
   "metadata": {},
   "source": [
    "### Drop Columns"
   ]
  },
  {
   "cell_type": "markdown",
   "metadata": {},
   "source": [
    "Neither Profession nor CGPA was statistically significant from our previous notebook. Both contain many null values with no clear best imputation strategy. For these reasons we will drop them from our predicitve model."
   ]
  },
  {
   "cell_type": "code",
   "execution_count": 13,
   "metadata": {},
   "outputs": [
    {
     "data": {
      "text/html": [
       "<div>\n",
       "<style scoped>\n",
       "    .dataframe tbody tr th:only-of-type {\n",
       "        vertical-align: middle;\n",
       "    }\n",
       "\n",
       "    .dataframe tbody tr th {\n",
       "        vertical-align: top;\n",
       "    }\n",
       "\n",
       "    .dataframe thead th {\n",
       "        text-align: right;\n",
       "    }\n",
       "</style>\n",
       "<table border=\"1\" class=\"dataframe\">\n",
       "  <thead>\n",
       "    <tr style=\"text-align: right;\">\n",
       "      <th></th>\n",
       "      <th>gender</th>\n",
       "      <th>age</th>\n",
       "      <th>city</th>\n",
       "      <th>working_professional_or_student</th>\n",
       "      <th>academic_pressure</th>\n",
       "      <th>work_pressure</th>\n",
       "      <th>study_satisfaction</th>\n",
       "      <th>job_satisfaction</th>\n",
       "      <th>sleep_duration</th>\n",
       "      <th>dietary_habits</th>\n",
       "      <th>degree</th>\n",
       "      <th>have_you_ever_had_suicidal_thoughts</th>\n",
       "      <th>work/study_hours</th>\n",
       "      <th>financial_stress</th>\n",
       "      <th>family_history_of_mental_illness</th>\n",
       "      <th>depression</th>\n",
       "    </tr>\n",
       "  </thead>\n",
       "  <tbody>\n",
       "    <tr>\n",
       "      <th>0</th>\n",
       "      <td>Female</td>\n",
       "      <td>37</td>\n",
       "      <td>Ghaziabad</td>\n",
       "      <td>Working Professional</td>\n",
       "      <td>1.0</td>\n",
       "      <td>2.0</td>\n",
       "      <td>3.0</td>\n",
       "      <td>4.0</td>\n",
       "      <td>7-8 hours</td>\n",
       "      <td>Moderate</td>\n",
       "      <td>MA</td>\n",
       "      <td>No</td>\n",
       "      <td>6</td>\n",
       "      <td>2</td>\n",
       "      <td>No</td>\n",
       "      <td>No</td>\n",
       "    </tr>\n",
       "    <tr>\n",
       "      <th>1</th>\n",
       "      <td>Male</td>\n",
       "      <td>60</td>\n",
       "      <td>Kalyan</td>\n",
       "      <td>Working Professional</td>\n",
       "      <td>1.0</td>\n",
       "      <td>4.0</td>\n",
       "      <td>3.0</td>\n",
       "      <td>3.0</td>\n",
       "      <td>5-6 hours</td>\n",
       "      <td>Unhealthy</td>\n",
       "      <td>B.Com</td>\n",
       "      <td>Yes</td>\n",
       "      <td>0</td>\n",
       "      <td>4</td>\n",
       "      <td>Yes</td>\n",
       "      <td>No</td>\n",
       "    </tr>\n",
       "    <tr>\n",
       "      <th>2</th>\n",
       "      <td>Female</td>\n",
       "      <td>42</td>\n",
       "      <td>Bhopal</td>\n",
       "      <td>Working Professional</td>\n",
       "      <td>1.0</td>\n",
       "      <td>2.0</td>\n",
       "      <td>3.0</td>\n",
       "      <td>3.0</td>\n",
       "      <td>5-6 hours</td>\n",
       "      <td>Moderate</td>\n",
       "      <td>M.Com</td>\n",
       "      <td>No</td>\n",
       "      <td>0</td>\n",
       "      <td>2</td>\n",
       "      <td>No</td>\n",
       "      <td>No</td>\n",
       "    </tr>\n",
       "    <tr>\n",
       "      <th>3</th>\n",
       "      <td>Female</td>\n",
       "      <td>44</td>\n",
       "      <td>Thane</td>\n",
       "      <td>Working Professional</td>\n",
       "      <td>1.0</td>\n",
       "      <td>3.0</td>\n",
       "      <td>3.0</td>\n",
       "      <td>5.0</td>\n",
       "      <td>7-8 hours</td>\n",
       "      <td>Healthy</td>\n",
       "      <td>MD</td>\n",
       "      <td>Yes</td>\n",
       "      <td>1</td>\n",
       "      <td>2</td>\n",
       "      <td>Yes</td>\n",
       "      <td>No</td>\n",
       "    </tr>\n",
       "    <tr>\n",
       "      <th>4</th>\n",
       "      <td>Male</td>\n",
       "      <td>48</td>\n",
       "      <td>Indore</td>\n",
       "      <td>Working Professional</td>\n",
       "      <td>1.0</td>\n",
       "      <td>4.0</td>\n",
       "      <td>3.0</td>\n",
       "      <td>3.0</td>\n",
       "      <td>7-8 hours</td>\n",
       "      <td>Moderate</td>\n",
       "      <td>BE</td>\n",
       "      <td>Yes</td>\n",
       "      <td>6</td>\n",
       "      <td>5</td>\n",
       "      <td>Yes</td>\n",
       "      <td>No</td>\n",
       "    </tr>\n",
       "  </tbody>\n",
       "</table>\n",
       "</div>"
      ],
      "text/plain": [
       "   gender  age       city working_professional_or_student  academic_pressure  \\\n",
       "0  Female   37  Ghaziabad            Working Professional                1.0   \n",
       "1    Male   60     Kalyan            Working Professional                1.0   \n",
       "2  Female   42     Bhopal            Working Professional                1.0   \n",
       "3  Female   44      Thane            Working Professional                1.0   \n",
       "4    Male   48     Indore            Working Professional                1.0   \n",
       "\n",
       "   work_pressure  study_satisfaction  job_satisfaction sleep_duration  \\\n",
       "0            2.0                 3.0               4.0      7-8 hours   \n",
       "1            4.0                 3.0               3.0      5-6 hours   \n",
       "2            2.0                 3.0               3.0      5-6 hours   \n",
       "3            3.0                 3.0               5.0      7-8 hours   \n",
       "4            4.0                 3.0               3.0      7-8 hours   \n",
       "\n",
       "  dietary_habits degree have_you_ever_had_suicidal_thoughts  work/study_hours  \\\n",
       "0       Moderate     MA                                  No                 6   \n",
       "1      Unhealthy  B.Com                                 Yes                 0   \n",
       "2       Moderate  M.Com                                  No                 0   \n",
       "3        Healthy     MD                                 Yes                 1   \n",
       "4       Moderate     BE                                 Yes                 6   \n",
       "\n",
       "   financial_stress family_history_of_mental_illness depression  \n",
       "0                 2                               No         No  \n",
       "1                 4                              Yes         No  \n",
       "2                 2                               No         No  \n",
       "3                 2                              Yes         No  \n",
       "4                 5                              Yes         No  "
      ]
     },
     "execution_count": 13,
     "metadata": {},
     "output_type": "execute_result"
    }
   ],
   "source": [
    "df.drop(columns=['profession', 'cgpa'], inplace=True)\n",
    "df.head()"
   ]
  },
  {
   "cell_type": "markdown",
   "metadata": {},
   "source": [
    "### Encoding"
   ]
  },
  {
   "cell_type": "markdown",
   "metadata": {},
   "source": [
    "At first glance it looks like we can encode:\n",
    "* gender\n",
    "* working_professional_or_student\n",
    "* sleep_duration\n",
    "* dietary_habits\n",
    "* have_you_ever_had_suicidal_thoughts\n",
    "* family_history_of_mental_illness\n",
    "* depression"
   ]
  },
  {
   "cell_type": "code",
   "execution_count": 14,
   "metadata": {},
   "outputs": [
    {
     "name": "stdout",
     "output_type": "stream",
     "text": [
      "gender\n",
      "Male      1333\n",
      "Female    1223\n",
      "Name: count, dtype: int64\n",
      "\n",
      "working_professional_or_student\n",
      "Working Professional    2054\n",
      "Student                  502\n",
      "Name: count, dtype: int64\n",
      "\n",
      "sleep_duration\n",
      "7-8 hours            658\n",
      "Less than 5 hours    648\n",
      "5-6 hours            628\n",
      "More than 8 hours    622\n",
      "Name: count, dtype: int64\n",
      "\n",
      "dietary_habits\n",
      "Unhealthy    882\n",
      "Healthy      842\n",
      "Moderate     832\n",
      "Name: count, dtype: int64\n",
      "\n",
      "have_you_ever_had_suicidal_thoughts\n",
      "No     1307\n",
      "Yes    1249\n",
      "Name: count, dtype: int64\n",
      "\n",
      "family_history_of_mental_illness\n",
      "No     1311\n",
      "Yes    1245\n",
      "Name: count, dtype: int64\n",
      "\n",
      "depression\n",
      "No     2101\n",
      "Yes     455\n",
      "Name: count, dtype: int64\n",
      "\n"
     ]
    }
   ],
   "source": [
    "# Check current values\n",
    "print(f\"{df['gender'].value_counts()}\\n\")\n",
    "print(f\"{df['working_professional_or_student'].value_counts()}\\n\")\n",
    "print(f\"{df['sleep_duration'].value_counts()}\\n\")\n",
    "print(f\"{df['dietary_habits'].value_counts()}\\n\")\n",
    "print(f\"{df['have_you_ever_had_suicidal_thoughts'].value_counts()}\\n\")\n",
    "print(f\"{df['family_history_of_mental_illness'].value_counts()}\\n\")\n",
    "print(f\"{df['depression'].value_counts()}\\n\")"
   ]
  },
  {
   "cell_type": "code",
   "execution_count": 15,
   "metadata": {},
   "outputs": [
    {
     "name": "stdout",
     "output_type": "stream",
     "text": [
      "<class 'pandas.core.frame.DataFrame'>\n",
      "RangeIndex: 2556 entries, 0 to 2555\n",
      "Data columns (total 16 columns):\n",
      " #   Column                               Non-Null Count  Dtype  \n",
      "---  ------                               --------------  -----  \n",
      " 0   gender                               2556 non-null   int64  \n",
      " 1   age                                  2556 non-null   int64  \n",
      " 2   city                                 2556 non-null   object \n",
      " 3   working_professional_or_student      2556 non-null   int64  \n",
      " 4   academic_pressure                    2556 non-null   float64\n",
      " 5   work_pressure                        2556 non-null   float64\n",
      " 6   study_satisfaction                   2556 non-null   float64\n",
      " 7   job_satisfaction                     2556 non-null   float64\n",
      " 8   sleep_duration                       2556 non-null   int64  \n",
      " 9   dietary_habits                       2556 non-null   int64  \n",
      " 10  degree                               2556 non-null   object \n",
      " 11  have_you_ever_had_suicidal_thoughts  2556 non-null   int64  \n",
      " 12  work/study_hours                     2556 non-null   int64  \n",
      " 13  financial_stress                     2556 non-null   int64  \n",
      " 14  family_history_of_mental_illness     2556 non-null   int64  \n",
      " 15  depression                           2556 non-null   int64  \n",
      "dtypes: float64(4), int64(10), object(2)\n",
      "memory usage: 319.6+ KB\n"
     ]
    }
   ],
   "source": [
    "# Encode for model ingestion\n",
    "\n",
    "# Gender\n",
    "df.loc[:, 'gender'].replace({\n",
    "    'Female': 0,\n",
    "    'Male': 1\n",
    "}, inplace=True)\n",
    "\n",
    "# Working/Student\n",
    "df.loc[:, 'working_professional_or_student'].replace({\n",
    "    'Student': 0,\n",
    "    'Working Professional': 1\n",
    "}, inplace=True)\n",
    "\n",
    "# Sleep Duration\n",
    "df.loc[:, 'sleep_duration'].replace({\n",
    "    'Less than 5 hours': 0,\n",
    "    '5-6 hours': 1,\n",
    "    '7-8 hours': 2,\n",
    "    'More than 8 hours': 3\n",
    "}, inplace=True)\n",
    "\n",
    "# Diet\n",
    "df.loc[:, 'dietary_habits'].replace({\n",
    "    'Unhealthy': 0,\n",
    "    'Moderate': 1,\n",
    "    'Healthy': 2\n",
    "}, inplace=True)\n",
    "\n",
    "# Previous thoughts of suicide\n",
    "df.loc[:, 'have_you_ever_had_suicidal_thoughts'].replace({\n",
    "    'No': 0,\n",
    "    'Yes': 1\n",
    "}, inplace=True)\n",
    "\n",
    "# Family History of Mental Illness\n",
    "df.loc[:, 'family_history_of_mental_illness'].replace({\n",
    "    'No': 0,\n",
    "    'Yes': 1\n",
    "}, inplace=True)\n",
    "\n",
    "# Depression\n",
    "df.loc[:, 'depression'].replace({\n",
    "    'No': 0,\n",
    "    'Yes': 1\n",
    "}, inplace=True)\n",
    "\n",
    "# Check\n",
    "df.info()"
   ]
  },
  {
   "cell_type": "code",
   "execution_count": 16,
   "metadata": {},
   "outputs": [],
   "source": [
    "# Isolate categorical columns\n",
    "cat_cols = ['city', 'degree']\n",
    "\n",
    "# One Hot Encode categorical columns\n",
    "cat_df = df[cat_cols]\n",
    "ohe = OneHotEncoder(drop='first', dtype=int, sparse_output=False)\n",
    "ohe_data = ohe.fit_transform(cat_df)\n",
    "ohe_df = pd.DataFrame(ohe_data, columns=ohe.get_feature_names_out(cat_df.columns))\n",
    "\n",
    "# Merge encoded data frames together\n",
    "full_df = pd.merge(df.drop(columns=cat_cols), ohe_df, left_index=True, right_index=True)"
   ]
  },
  {
   "cell_type": "markdown",
   "metadata": {},
   "source": [
    "## Modeling"
   ]
  },
  {
   "cell_type": "markdown",
   "metadata": {},
   "source": [
    "First we have to identify our predictors and target feature. Then we cna split them into training and testing groups."
   ]
  },
  {
   "cell_type": "code",
   "execution_count": 17,
   "metadata": {},
   "outputs": [],
   "source": [
    "# Split training and testing data\n",
    "X = full_df.drop(columns='depression')\n",
    "y = full_df['depression']\n",
    "\n",
    "# Split into training and testing groups\n",
    "# Stratified sampling maintains class distributions\n",
    "X_train, X_test, y_train, y_test = train_test_split(X, y, train_size=0.80, stratify=y, random_state=50)"
   ]
  },
  {
   "cell_type": "markdown",
   "metadata": {},
   "source": [
    "Now that our data is split we can perform scaling. Doing this after splitting ensures there is no data leakage between groups."
   ]
  },
  {
   "cell_type": "code",
   "execution_count": 18,
   "metadata": {},
   "outputs": [],
   "source": [
    "# Scale training and testing data\n",
    "scaler = StandardScaler()\n",
    "scaled_X_train = scaler.fit_transform(X_train)\n",
    "scaled_X_test = scaler.transform(X_test)"
   ]
  },
  {
   "cell_type": "markdown",
   "metadata": {},
   "source": [
    "### Baseline Performance"
   ]
  },
  {
   "cell_type": "markdown",
   "metadata": {},
   "source": [
    "In oder to determine which model to develop further we can test many models at once using a function and assess their performance."
   ]
  },
  {
   "cell_type": "code",
   "execution_count": 19,
   "metadata": {},
   "outputs": [],
   "source": [
    "# Baseline Testing\n",
    "\n",
    "def test_classification_models(X_train, y_train, cv=10, random_state=50):\n",
    "    # Define Models to Test\n",
    "    models = {\n",
    "        'Logistic Regression': LogisticRegression(random_state=random_state),\n",
    "        'K-Nearest Neighbors': KNeighborsClassifier(),\n",
    "        'Decision Tree': DecisionTreeClassifier(random_state=random_state),\n",
    "        'Random Forest': RandomForestClassifier(random_state=random_state),\n",
    "        'Gradient Boosting': GradientBoostingClassifier(random_state=random_state),\n",
    "        'XGBoost': XGBClassifier(random_state=random_state)\n",
    "    }\n",
    "    \n",
    "    # Set Labels for future Data Frame\n",
    "    results = {\n",
    "        'Model': [],\n",
    "        'Accuracy': [],\n",
    "        'Precision': [],\n",
    "        'Recall': [],\n",
    "        'F1': [],\n",
    "        'ROC-AUC': []\n",
    "    }\n",
    "    \n",
    "    # Test each Model and Record Results\n",
    "    for model_name, model in models.items():\n",
    "        cv_scores = cross_validate(model, X_train, y_train, cv=cv, scoring=['accuracy', 'precision', 'recall', 'f1', 'roc_auc'])\n",
    "        results['Model'].append(model_name)\n",
    "        results['Accuracy'].append(round(np.mean(cv_scores['test_accuracy']) * 100, 2))\n",
    "        results['Precision'].append(round(np.mean(cv_scores['test_precision']) * 100, 2))\n",
    "        results['Recall'].append(round(np.mean(cv_scores['test_recall']) * 100, 2))\n",
    "        results['F1'].append(round(np.mean(cv_scores['test_f1']) * 100, 2))\n",
    "        results['ROC-AUC'].append(round(np.mean(cv_scores['test_roc_auc']) * 100, 2))\n",
    "    \n",
    "    # Create Data Frame and Display\n",
    "    results_df = pd.DataFrame(results)\n",
    "    return results_df"
   ]
  },
  {
   "cell_type": "code",
   "execution_count": 20,
   "metadata": {},
   "outputs": [
    {
     "data": {
      "text/html": [
       "<div>\n",
       "<style scoped>\n",
       "    .dataframe tbody tr th:only-of-type {\n",
       "        vertical-align: middle;\n",
       "    }\n",
       "\n",
       "    .dataframe tbody tr th {\n",
       "        vertical-align: top;\n",
       "    }\n",
       "\n",
       "    .dataframe thead th {\n",
       "        text-align: right;\n",
       "    }\n",
       "</style>\n",
       "<table border=\"1\" class=\"dataframe\">\n",
       "  <thead>\n",
       "    <tr style=\"text-align: right;\">\n",
       "      <th></th>\n",
       "      <th>Model</th>\n",
       "      <th>Accuracy</th>\n",
       "      <th>Precision</th>\n",
       "      <th>Recall</th>\n",
       "      <th>F1</th>\n",
       "      <th>ROC-AUC</th>\n",
       "    </tr>\n",
       "  </thead>\n",
       "  <tbody>\n",
       "    <tr>\n",
       "      <th>0</th>\n",
       "      <td>Logistic Regression</td>\n",
       "      <td>97.90</td>\n",
       "      <td>94.55</td>\n",
       "      <td>93.70</td>\n",
       "      <td>94.08</td>\n",
       "      <td>99.69</td>\n",
       "    </tr>\n",
       "    <tr>\n",
       "      <th>1</th>\n",
       "      <td>K-Nearest Neighbors</td>\n",
       "      <td>82.73</td>\n",
       "      <td>53.82</td>\n",
       "      <td>23.08</td>\n",
       "      <td>31.76</td>\n",
       "      <td>72.21</td>\n",
       "    </tr>\n",
       "    <tr>\n",
       "      <th>2</th>\n",
       "      <td>Decision Tree</td>\n",
       "      <td>90.75</td>\n",
       "      <td>73.79</td>\n",
       "      <td>74.70</td>\n",
       "      <td>74.18</td>\n",
       "      <td>84.46</td>\n",
       "    </tr>\n",
       "    <tr>\n",
       "      <th>3</th>\n",
       "      <td>Random Forest</td>\n",
       "      <td>93.69</td>\n",
       "      <td>92.09</td>\n",
       "      <td>70.85</td>\n",
       "      <td>79.81</td>\n",
       "      <td>97.67</td>\n",
       "    </tr>\n",
       "    <tr>\n",
       "      <th>4</th>\n",
       "      <td>Gradient Boosting</td>\n",
       "      <td>95.50</td>\n",
       "      <td>93.39</td>\n",
       "      <td>80.77</td>\n",
       "      <td>86.53</td>\n",
       "      <td>98.98</td>\n",
       "    </tr>\n",
       "    <tr>\n",
       "      <th>5</th>\n",
       "      <td>XGBoost</td>\n",
       "      <td>96.77</td>\n",
       "      <td>93.69</td>\n",
       "      <td>87.91</td>\n",
       "      <td>90.64</td>\n",
       "      <td>99.36</td>\n",
       "    </tr>\n",
       "  </tbody>\n",
       "</table>\n",
       "</div>"
      ],
      "text/plain": [
       "                 Model  Accuracy  Precision  Recall     F1  ROC-AUC\n",
       "0  Logistic Regression     97.90      94.55   93.70  94.08    99.69\n",
       "1  K-Nearest Neighbors     82.73      53.82   23.08  31.76    72.21\n",
       "2        Decision Tree     90.75      73.79   74.70  74.18    84.46\n",
       "3        Random Forest     93.69      92.09   70.85  79.81    97.67\n",
       "4    Gradient Boosting     95.50      93.39   80.77  86.53    98.98\n",
       "5              XGBoost     96.77      93.69   87.91  90.64    99.36"
      ]
     },
     "execution_count": 20,
     "metadata": {},
     "output_type": "execute_result"
    }
   ],
   "source": [
    "# Call the function using our scaled data\n",
    "test_classification_models(scaled_X_train, y_train)"
   ]
  },
  {
   "cell_type": "markdown",
   "metadata": {},
   "source": [
    "These results show that Logistic Regression is the best performing model in all measured areas. We can interpret the results as follows:\n",
    "* `Accuracy`: This model correctly classifies 98% of all survey participants.\n",
    "* `Precision`: When the model predicts that an individual is at risk, it is correct 95% of the time.\n",
    "* `Recall`: Of all the at-risk individuals, the model correctly identifies 94% of them.\n",
    "* `F1 Score`: The high value of 94% indicates a strong balance between correctly identifying at-risk individuals and minimizing false groupings.\n",
    "* `ROC-AUC`: At >99% this model is performing exceptionally well -- differentiating between groups almost perfectly."
   ]
  },
  {
   "cell_type": "markdown",
   "metadata": {},
   "source": [
    "Because our goal is to support medical professionals in indentifying individuals at risk of depression, we want to minimize our false negative rate. This should put more emphasis into Recall as our metric of evaluation. Logistic Regression is the clear winner in this area so let's see if we can perform some hyperparameter tuning in order to improve our current performance."
   ]
  },
  {
   "cell_type": "markdown",
   "metadata": {},
   "source": [
    "### Optimize with GridSearchCV"
   ]
  },
  {
   "cell_type": "code",
   "execution_count": 21,
   "metadata": {},
   "outputs": [
    {
     "name": "stdout",
     "output_type": "stream",
     "text": [
      "0.9505707762557076\n"
     ]
    }
   ],
   "source": [
    "# Specify parameters\n",
    "params = {\n",
    "    'C': [0.1, 1, 10, 100],             # Regularization Strength balances overfitting and underfitting\n",
    "    'penalty': ['l2'],                  # Ridge maintains all features but penalizes large coefficients\n",
    "    'solver': ['lbfgs', 'saga']         # Algorithm for optimization\n",
    "}\n",
    "\n",
    "# Increased max_iter due to convergence error\n",
    "log_reg = LogisticRegression(max_iter=10000, random_state=50)\n",
    "\n",
    "# Pass to GridSearchCV and print best recall score\n",
    "gs = GridSearchCV(log_reg, params, cv=5, scoring='recall').fit(scaled_X_train, y_train)\n",
    "print(gs.best_score_)"
   ]
  },
  {
   "cell_type": "markdown",
   "metadata": {},
   "source": [
    "With the GridSearchCV we are seeing slightly improved performance on recall. Let's see how well our model generalizes to unseen data by evaluating it against our test set."
   ]
  },
  {
   "cell_type": "markdown",
   "metadata": {},
   "source": [
    "### Test Performance"
   ]
  },
  {
   "cell_type": "code",
   "execution_count": 22,
   "metadata": {},
   "outputs": [
    {
     "data": {
      "text/html": [
       "<div>\n",
       "<style scoped>\n",
       "    .dataframe tbody tr th:only-of-type {\n",
       "        vertical-align: middle;\n",
       "    }\n",
       "\n",
       "    .dataframe tbody tr th {\n",
       "        vertical-align: top;\n",
       "    }\n",
       "\n",
       "    .dataframe thead th {\n",
       "        text-align: right;\n",
       "    }\n",
       "</style>\n",
       "<table border=\"1\" class=\"dataframe\">\n",
       "  <thead>\n",
       "    <tr style=\"text-align: right;\">\n",
       "      <th></th>\n",
       "      <th>Accuracy</th>\n",
       "      <th>Precision</th>\n",
       "      <th>Recall</th>\n",
       "      <th>F1</th>\n",
       "      <th>ROC-AUC</th>\n",
       "    </tr>\n",
       "  </thead>\n",
       "  <tbody>\n",
       "    <tr>\n",
       "      <th>0</th>\n",
       "      <td>0.986328</td>\n",
       "      <td>0.956522</td>\n",
       "      <td>0.967033</td>\n",
       "      <td>0.961749</td>\n",
       "      <td>0.978766</td>\n",
       "    </tr>\n",
       "  </tbody>\n",
       "</table>\n",
       "</div>"
      ],
      "text/plain": [
       "   Accuracy  Precision    Recall        F1   ROC-AUC\n",
       "0  0.986328   0.956522  0.967033  0.961749  0.978766"
      ]
     },
     "execution_count": 22,
     "metadata": {},
     "output_type": "execute_result"
    }
   ],
   "source": [
    "y_pred = gs.best_estimator_.predict(scaled_X_test)\n",
    "\n",
    "results = {\n",
    "    'Accuracy': [],\n",
    "    'Precision': [],\n",
    "    'Recall': [],\n",
    "    'F1': [],\n",
    "    'ROC-AUC': []\n",
    "}\n",
    "\n",
    "accuracy = accuracy_score(y_test, y_pred)\n",
    "precision = precision_score(y_test, y_pred)\n",
    "recall = recall_score(y_test, y_pred)\n",
    "f1 = f1_score(y_test, y_pred)\n",
    "roc_auc = roc_auc_score(y_test, y_pred)\n",
    "\n",
    "results['Accuracy'].append(accuracy)\n",
    "results['Precision'].append(precision)\n",
    "results['Recall'].append(recall)\n",
    "results['F1'].append(f1)\n",
    "results['ROC-AUC'].append(roc_auc)\n",
    "\n",
    "pd.DataFrame(results)"
   ]
  },
  {
   "cell_type": "markdown",
   "metadata": {},
   "source": [
    "Yes! We are seeing a comparable performance on our test set, indicating that our model is not overfit or underfit. 'Recall' measures how good our model is at finding all the individuals who are truly at risk for depression. A recall score of 97% means that if there are 100 people who are actually at risk, our model successfully identifies about 97 of them. This is important because it minimizes the chances of missing someone who might need help. In healthcare, it's crucial to catch as many at-risk individuals as possible so that we can provide timely support and intervention."
   ]
  },
  {
   "cell_type": "markdown",
   "metadata": {},
   "source": [
    "### Visualization"
   ]
  },
  {
   "cell_type": "code",
   "execution_count": 23,
   "metadata": {},
   "outputs": [
    {
     "data": {
      "image/png": "[encoded data removed]",
      "text/plain": [
       "<Figure size 800x800 with 2 Axes>"
      ]
     },
     "metadata": {},
     "output_type": "display_data"
    }
   ],
   "source": [
    "# Create confusion matrix and define labels for visual\n",
    "cm = confusion_matrix(y_test, y_pred)\n",
    "labels = ['Non Risk', 'At Risk']\n",
    "\n",
    "# Format and visualize\n",
    "figure = plt.subplots(figsize=(8,8))\n",
    "sns.heatmap(cm,\n",
    "            annot=True,\n",
    "            cmap='Blues',\n",
    "            fmt='.0f',\n",
    "            xticklabels=labels,\n",
    "            yticklabels=labels)\n",
    "plt.title('Logistic Regression Confusion Matrix')\n",
    "plt.xlabel('Predicted Label')\n",
    "plt.ylabel('True Label')\n",
    "plt.show();"
   ]
  },
  {
   "cell_type": "markdown",
   "metadata": {},
   "source": [
    "## Feature Importance"
   ]
  },
  {
   "cell_type": "markdown",
   "metadata": {},
   "source": [
    "Let's try to better understand how each factor contributes to risk of depression."
   ]
  },
  {
   "cell_type": "code",
   "execution_count": 108,
   "metadata": {},
   "outputs": [
    {
     "data": {
      "text/html": [
       "<div>\n",
       "<style scoped>\n",
       "    .dataframe tbody tr th:only-of-type {\n",
       "        vertical-align: middle;\n",
       "    }\n",
       "\n",
       "    .dataframe tbody tr th {\n",
       "        vertical-align: top;\n",
       "    }\n",
       "\n",
       "    .dataframe thead th {\n",
       "        text-align: right;\n",
       "    }\n",
       "</style>\n",
       "<table border=\"1\" class=\"dataframe\">\n",
       "  <thead>\n",
       "    <tr style=\"text-align: right;\">\n",
       "      <th></th>\n",
       "      <th>feature</th>\n",
       "      <th>coefficient</th>\n",
       "      <th>abs_coefficient</th>\n",
       "    </tr>\n",
       "  </thead>\n",
       "  <tbody>\n",
       "    <tr>\n",
       "      <th>12</th>\n",
       "      <td>family_history_of_mental_illness</td>\n",
       "      <td>3.136658</td>\n",
       "      <td>3.136658</td>\n",
       "    </tr>\n",
       "    <tr>\n",
       "      <th>7</th>\n",
       "      <td>sleep_duration</td>\n",
       "      <td>-3.729545</td>\n",
       "      <td>3.729545</td>\n",
       "    </tr>\n",
       "    <tr>\n",
       "      <th>8</th>\n",
       "      <td>dietary_habits</td>\n",
       "      <td>-3.831043</td>\n",
       "      <td>3.831043</td>\n",
       "    </tr>\n",
       "    <tr>\n",
       "      <th>10</th>\n",
       "      <td>work/study_hours</td>\n",
       "      <td>6.143213</td>\n",
       "      <td>6.143213</td>\n",
       "    </tr>\n",
       "    <tr>\n",
       "      <th>11</th>\n",
       "      <td>financial_stress</td>\n",
       "      <td>7.360613</td>\n",
       "      <td>7.360613</td>\n",
       "    </tr>\n",
       "    <tr>\n",
       "      <th>6</th>\n",
       "      <td>job_satisfaction</td>\n",
       "      <td>-8.773801</td>\n",
       "      <td>8.773801</td>\n",
       "    </tr>\n",
       "    <tr>\n",
       "      <th>3</th>\n",
       "      <td>academic_pressure</td>\n",
       "      <td>8.810594</td>\n",
       "      <td>8.810594</td>\n",
       "    </tr>\n",
       "    <tr>\n",
       "      <th>4</th>\n",
       "      <td>work_pressure</td>\n",
       "      <td>10.231989</td>\n",
       "      <td>10.231989</td>\n",
       "    </tr>\n",
       "    <tr>\n",
       "      <th>9</th>\n",
       "      <td>have_you_ever_had_suicidal_thoughts</td>\n",
       "      <td>12.683040</td>\n",
       "      <td>12.683040</td>\n",
       "    </tr>\n",
       "    <tr>\n",
       "      <th>1</th>\n",
       "      <td>age</td>\n",
       "      <td>-20.364951</td>\n",
       "      <td>20.364951</td>\n",
       "    </tr>\n",
       "  </tbody>\n",
       "</table>\n",
       "</div>"
      ],
      "text/plain": [
       "                                feature  coefficient  abs_coefficient\n",
       "12     family_history_of_mental_illness     3.136658         3.136658\n",
       "7                        sleep_duration    -3.729545         3.729545\n",
       "8                        dietary_habits    -3.831043         3.831043\n",
       "10                     work/study_hours     6.143213         6.143213\n",
       "11                     financial_stress     7.360613         7.360613\n",
       "6                      job_satisfaction    -8.773801         8.773801\n",
       "3                     academic_pressure     8.810594         8.810594\n",
       "4                         work_pressure    10.231989        10.231989\n",
       "9   have_you_ever_had_suicidal_thoughts    12.683040        12.683040\n",
       "1                                   age   -20.364951        20.364951"
      ]
     },
     "execution_count": 108,
     "metadata": {},
     "output_type": "execute_result"
    }
   ],
   "source": [
    "# Get feature names\n",
    "feature_names = X_train.columns\n",
    "\n",
    "# Extract coefficients\n",
    "coefficients = gs.best_estimator_.coef_[0]\n",
    "\n",
    "# Create DataFrame\n",
    "coef_df = pd.DataFrame({'feature': feature_names, 'coefficient': coefficients})\n",
    "\n",
    "# Isoloate highest impact features based on absolute value of coefficient\n",
    "coef_df['abs_coefficient'] = coef_df['coefficient'].abs()\n",
    "\n",
    "# Choose top 10 and reoder by coefficient\n",
    "coef_df = coef_df.sort_values(by='abs_coefficient', ascending=False)[0:10]\n",
    "coef_df = coef_df.sort_values(by='abs_coefficient')\n",
    "\n",
    "coef_df"
   ]
  },
  {
   "cell_type": "markdown",
   "metadata": {},
   "source": [
    "Next we can visualize these factors to see which have the highest impact and if they positively or negatively affect depression risk."
   ]
  },
  {
   "cell_type": "code",
   "execution_count": 111,
   "metadata": {},
   "outputs": [
    {
     "data": {
      "image/png": "[encoded data removed]",
      "text/plain": [
       "<Figure size 1000x600 with 1 Axes>"
      ]
     },
     "metadata": {},
     "output_type": "display_data"
    }
   ],
   "source": [
    "plt.figure(figsize=(10, 6))\n",
    "\n",
    "# Data\n",
    "x = [feature.replace('_', ' ').title() for feature in coef_df['feature']]\n",
    "y = coef_df['coefficient']\n",
    "\n",
    "colors = ['lightblue' if coef < 0 else 'coral' for coef in y]\n",
    "plt.barh(x, y, color=colors)\n",
    "\n",
    "# Labels\n",
    "plt.title('Top Features Influencing Risk of Depression')\n",
    "plt.xlabel(f'Effect on Risk of Depression\\n(Log-Odds Per Standard Deviation in Feature)')\n",
    "plt.ylabel('Features')\n",
    "\n",
    "# Reference Line\n",
    "plt.axvline(x=0, color='black', linestyle='--', linewidth=1)\n",
    "\n",
    "# Plot with legend\n",
    "legend_labels = [Patch(color='lightblue', label='Increase in Feature Lowers Risk of Depression'),\n",
    "                 Patch(color='coral', label='Increase in Feature Raises Risk of Depression')]\n",
    "plt.legend(handles=legend_labels)\n",
    "plt.show();"
   ]
  },
  {
   "cell_type": "markdown",
   "metadata": {},
   "source": [
    "## Pipeline Refactorization"
   ]
  },
  {
   "cell_type": "markdown",
   "metadata": {},
   "source": [
    "We can more efficiently preprocess our data by refactoring our code above into functions and pass them into a pipeline. This makes it more scalable and readable.\n",
    "\n",
    "Let's start by first turning the above code into functions."
   ]
  },
  {
   "cell_type": "code",
   "execution_count": null,
   "metadata": {},
   "outputs": [],
   "source": [
    "# Read in the data for fresh start\n",
    "df = pd.read_csv('data/depression_data.csv')\n",
    "\n",
    "# Pipeline Functions\n",
    "# Clean Columns\n",
    "def clean_columns(df):\n",
    "    df = df.copy()\n",
    "    df.columns = [column.replace(' ?', '').replace(' ', '_').lower() for column in df.columns]\n",
    "    df.drop(columns=['name'], inplace=True)\n",
    "    return df\n",
    "\n",
    "# Impute Values\n",
    "def impute_values(df):\n",
    "    df = df.copy()\n",
    "    df.loc[:, 'academic_pressure'].fillna(1, inplace=True)\n",
    "    df.loc[:, 'work_pressure'].fillna(1, inplace=True)\n",
    "    df.loc[:, 'study_satisfaction'].fillna(3, inplace=True)\n",
    "    df.loc[:, 'job_satisfaction'].fillna(3, inplace=True)\n",
    "    return df\n",
    "\n",
    "# Drop Unnecessary Columns\n",
    "def drop_columns(df):\n",
    "    df = df.copy()\n",
    "    df.drop(columns=['profession', 'cgpa'], inplace=True)\n",
    "    return df\n",
    "\n",
    "# Encode Values\n",
    "def encode(df):\n",
    "    df = df.copy()\n",
    "\n",
    "    # Gender\n",
    "    df.loc[:, 'gender'].replace({'Female': 0, 'Male': 1}, inplace=True)\n",
    "\n",
    "    # Working/Student\n",
    "    df.loc[:, 'working_professional_or_student'].replace({'Student': 0, 'Working Professional': 1}, inplace=True)\n",
    "\n",
    "    # Sleep Duration\n",
    "    df.loc[:, 'sleep_duration'].replace({\n",
    "        'Less than 5 hours': 0,\n",
    "        '5-6 hours': 1,\n",
    "        '7-8 hours': 2,\n",
    "        'More than 8 hours': 3\n",
    "    }, inplace=True)\n",
    "\n",
    "    # Diet\n",
    "    df.loc[:, 'dietary_habits'].replace({\n",
    "        'Unhealthy': 0,\n",
    "        'Moderate': 1,\n",
    "        'Healthy': 2\n",
    "    }, inplace=True)\n",
    "\n",
    "    # Previous thoughts of suicide\n",
    "    df.loc[:, 'have_you_ever_had_suicidal_thoughts'].replace({'No': 0, 'Yes': 1}, inplace=True)\n",
    "\n",
    "    # Family History of Mental Illness\n",
    "    df.loc[:, 'family_history_of_mental_illness'].replace({'No': 0, 'Yes': 1}, inplace=True)\n",
    "\n",
    "    return df\n",
    "\n",
    "# One Hot Encode Categorical Features\n",
    "def ohe(df):\n",
    "    df = df.copy()\n",
    "\n",
    "    # Isolate categorical columns\n",
    "    cat_cols = ['city', 'degree']\n",
    "    cat_df = df[cat_cols]\n",
    "\n",
    "    # One Hot Encode categorical columns\n",
    "    ohe = OneHotEncoder(drop='first', dtype=int, sparse_output=False)\n",
    "    ohe_data = ohe.fit_transform(cat_df)\n",
    "    ohe_df = pd.DataFrame(ohe_data, columns=ohe.get_feature_names_out(cat_df.columns), index=df.index)\n",
    "\n",
    "    # Merge encoded data frames together\n",
    "    df = pd.merge(df.drop(columns=cat_cols), ohe_df, left_index=True, right_index=True)\n",
    "\n",
    "    return df"
   ]
  },
  {
   "cell_type": "markdown",
   "metadata": {},
   "source": [
    "Next we can create the pipeline. This will include each of the functions from above, a scaler to standardize the data, and our final estimator."
   ]
  },
  {
   "cell_type": "code",
   "execution_count": 6,
   "metadata": {},
   "outputs": [],
   "source": [
    "# Build Pipeline\n",
    "pipe = Pipeline([\n",
    "    ('cleaner', FunctionTransformer(clean_columns)),\n",
    "    ('imputer', FunctionTransformer(impute_values)),\n",
    "    ('droper', FunctionTransformer(drop_columns)),\n",
    "    ('numeric_encoder', FunctionTransformer(encode)),\n",
    "    ('one_hot_encoder', FunctionTransformer(ohe)),\n",
    "    ('scaler', StandardScaler()),\n",
    "    ('classifier', LogisticRegression(max_iter=10000, random_state=50))\n",
    "])"
   ]
  },
  {
   "cell_type": "markdown",
   "metadata": {},
   "source": [
    "We still need to split our data into training and testing sets. Additionally we need to relabel our target data. Let's do that now."
   ]
  },
  {
   "cell_type": "code",
   "execution_count": 4,
   "metadata": {},
   "outputs": [],
   "source": [
    "# Train Test Split\n",
    "# Identify Features and Target Columns\n",
    "X = df.drop(columns=['Depression'])\n",
    "y = df['Depression']\n",
    "\n",
    "# Adjust target labels to numeric\n",
    "def adjust_target(y_data):\n",
    "    y_data.replace({'No': 0, 'Yes': 1}, inplace=True)\n",
    "    return y_data\n",
    "\n",
    "y = adjust_target(y.copy())\n",
    "\n",
    "# Split into training and testing groups\n",
    "# Stratified sampling maintains class distributions\n",
    "X_train, X_test, y_train, y_test = train_test_split(X, y, train_size=0.80, stratify=y, random_state=50)"
   ]
  },
  {
   "cell_type": "markdown",
   "metadata": {},
   "source": [
    "In order to get the best model we will copy the Grid Search code from above."
   ]
  },
  {
   "cell_type": "code",
   "execution_count": 7,
   "metadata": {},
   "outputs": [
    {
     "data": {
      "text/html": [
       "<style>#sk-container-id-1 {color: black;}#sk-container-id-1 pre{padding: 0;}#sk-container-id-1 div.sk-toggleable {background-color: white;}#sk-container-id-1 label.sk-toggleable__label {cursor: pointer;display: block;width: 100%;margin-bottom: 0;padding: 0.3em;box-sizing: border-box;text-align: center;}#sk-container-id-1 label.sk-toggleable__label-arrow:before {content: \"▸\";float: left;margin-right: 0.25em;color: #696969;}#sk-container-id-1 label.sk-toggleable__label-arrow:hover:before {color: black;}#sk-container-id-1 div.sk-estimator:hover label.sk-toggleable__label-arrow:before {color: black;}#sk-container-id-1 div.sk-toggleable__content {max-height: 0;max-width: 0;overflow: hidden;text-align: left;background-color: #f0f8ff;}#sk-container-id-1 div.sk-toggleable__content pre {margin: 0.2em;color: black;border-radius: 0.25em;background-color: #f0f8ff;}#sk-container-id-1 input.sk-toggleable__control:checked~div.sk-toggleable__content {max-height: 200px;max-width: 100%;overflow: auto;}#sk-container-id-1 input.sk-toggleable__control:checked~label.sk-toggleable__label-arrow:before {content: \"▾\";}#sk-container-id-1 div.sk-estimator input.sk-toggleable__control:checked~label.sk-toggleable__label {background-color: #d4ebff;}#sk-container-id-1 div.sk-label input.sk-toggleable__control:checked~label.sk-toggleable__label {background-color: #d4ebff;}#sk-container-id-1 input.sk-hidden--visually {border: 0;clip: rect(1px 1px 1px 1px);clip: rect(1px, 1px, 1px, 1px);height: 1px;margin: -1px;overflow: hidden;padding: 0;position: absolute;width: 1px;}#sk-container-id-1 div.sk-estimator {font-family: monospace;background-color: #f0f8ff;border: 1px dotted black;border-radius: 0.25em;box-sizing: border-box;margin-bottom: 0.5em;}#sk-container-id-1 div.sk-estimator:hover {background-color: #d4ebff;}#sk-container-id-1 div.sk-parallel-item::after {content: \"\";width: 100%;border-bottom: 1px solid gray;flex-grow: 1;}#sk-container-id-1 div.sk-label:hover label.sk-toggleable__label {background-color: #d4ebff;}#sk-container-id-1 div.sk-serial::before {content: \"\";position: absolute;border-left: 1px solid gray;box-sizing: border-box;top: 0;bottom: 0;left: 50%;z-index: 0;}#sk-container-id-1 div.sk-serial {display: flex;flex-direction: column;align-items: center;background-color: white;padding-right: 0.2em;padding-left: 0.2em;position: relative;}#sk-container-id-1 div.sk-item {position: relative;z-index: 1;}#sk-container-id-1 div.sk-parallel {display: flex;align-items: stretch;justify-content: center;background-color: white;position: relative;}#sk-container-id-1 div.sk-item::before, #sk-container-id-1 div.sk-parallel-item::before {content: \"\";position: absolute;border-left: 1px solid gray;box-sizing: border-box;top: 0;bottom: 0;left: 50%;z-index: -1;}#sk-container-id-1 div.sk-parallel-item {display: flex;flex-direction: column;z-index: 1;position: relative;background-color: white;}#sk-container-id-1 div.sk-parallel-item:first-child::after {align-self: flex-end;width: 50%;}#sk-container-id-1 div.sk-parallel-item:last-child::after {align-self: flex-start;width: 50%;}#sk-container-id-1 div.sk-parallel-item:only-child::after {width: 0;}#sk-container-id-1 div.sk-dashed-wrapped {border: 1px dashed gray;margin: 0 0.4em 0.5em 0.4em;box-sizing: border-box;padding-bottom: 0.4em;background-color: white;}#sk-container-id-1 div.sk-label label {font-family: monospace;font-weight: bold;display: inline-block;line-height: 1.2em;}#sk-container-id-1 div.sk-label-container {text-align: center;}#sk-container-id-1 div.sk-container {/* jupyter's `normalize.less` sets `[hidden] { display: none; }` but bootstrap.min.css set `[hidden] { display: none !important; }` so we also need the `!important` here to be able to override the default hidden behavior on the sphinx rendered scikit-learn.org. See: https://github.com/scikit-learn/scikit-learn/issues/21755 */display: inline-block !important;position: relative;}#sk-container-id-1 div.sk-text-repr-fallback {display: none;}</style><div id=\"sk-container-id-1\" class=\"sk-top-container\"><div class=\"sk-text-repr-fallback\"><pre>GridSearchCV(cv=5,\n",
       "             estimator=Pipeline(steps=[(&#x27;cleaner&#x27;,\n",
       "                                        FunctionTransformer(func=&lt;function clean_columns at 0x0000016A75DCC280&gt;)),\n",
       "                                       (&#x27;imputer&#x27;,\n",
       "                                        FunctionTransformer(func=&lt;function impute_values at 0x0000016A72742D30&gt;)),\n",
       "                                       (&#x27;droper&#x27;,\n",
       "                                        FunctionTransformer(func=&lt;function drop_columns at 0x0000016A78BB9D30&gt;)),\n",
       "                                       (&#x27;numeric_encoder&#x27;,\n",
       "                                        FunctionTransformer(func=&lt;function encode at 0x0000016A78BB9F70&gt;)),\n",
       "                                       (&#x27;one_hot_encoder&#x27;,\n",
       "                                        FunctionTransformer(func=&lt;function ohe at 0x0000016A78C0F040&gt;)),\n",
       "                                       (&#x27;scaler&#x27;, StandardScaler()),\n",
       "                                       (&#x27;classifier&#x27;,\n",
       "                                        LogisticRegression(max_iter=10000,\n",
       "                                                           random_state=50))]),\n",
       "             param_grid={&#x27;classifier__C&#x27;: [0.1, 1, 10, 100],\n",
       "                         &#x27;classifier__penalty&#x27;: [&#x27;l2&#x27;],\n",
       "                         &#x27;classifier__solver&#x27;: [&#x27;lbfgs&#x27;, &#x27;saga&#x27;]},\n",
       "             scoring=&#x27;recall&#x27;)</pre><b>In a Jupyter environment, please rerun this cell to show the HTML representation or trust the notebook. <br />On GitHub, the HTML representation is unable to render, please try loading this page with nbviewer.org.</b></div><div class=\"sk-container\" hidden><div class=\"sk-item sk-dashed-wrapped\"><div class=\"sk-label-container\"><div class=\"sk-label sk-toggleable\"><input class=\"sk-toggleable__control sk-hidden--visually\" id=\"sk-estimator-id-1\" type=\"checkbox\" ><label for=\"sk-estimator-id-1\" class=\"sk-toggleable__label sk-toggleable__label-arrow\">GridSearchCV</label><div class=\"sk-toggleable__content\"><pre>GridSearchCV(cv=5,\n",
       "             estimator=Pipeline(steps=[(&#x27;cleaner&#x27;,\n",
       "                                        FunctionTransformer(func=&lt;function clean_columns at 0x0000016A75DCC280&gt;)),\n",
       "                                       (&#x27;imputer&#x27;,\n",
       "                                        FunctionTransformer(func=&lt;function impute_values at 0x0000016A72742D30&gt;)),\n",
       "                                       (&#x27;droper&#x27;,\n",
       "                                        FunctionTransformer(func=&lt;function drop_columns at 0x0000016A78BB9D30&gt;)),\n",
       "                                       (&#x27;numeric_encoder&#x27;,\n",
       "                                        FunctionTransformer(func=&lt;function encode at 0x0000016A78BB9F70&gt;)),\n",
       "                                       (&#x27;one_hot_encoder&#x27;,\n",
       "                                        FunctionTransformer(func=&lt;function ohe at 0x0000016A78C0F040&gt;)),\n",
       "                                       (&#x27;scaler&#x27;, StandardScaler()),\n",
       "                                       (&#x27;classifier&#x27;,\n",
       "                                        LogisticRegression(max_iter=10000,\n",
       "                                                           random_state=50))]),\n",
       "             param_grid={&#x27;classifier__C&#x27;: [0.1, 1, 10, 100],\n",
       "                         &#x27;classifier__penalty&#x27;: [&#x27;l2&#x27;],\n",
       "                         &#x27;classifier__solver&#x27;: [&#x27;lbfgs&#x27;, &#x27;saga&#x27;]},\n",
       "             scoring=&#x27;recall&#x27;)</pre></div></div></div><div class=\"sk-parallel\"><div class=\"sk-parallel-item\"><div class=\"sk-item\"><div class=\"sk-label-container\"><div class=\"sk-label sk-toggleable\"><input class=\"sk-toggleable__control sk-hidden--visually\" id=\"sk-estimator-id-2\" type=\"checkbox\" ><label for=\"sk-estimator-id-2\" class=\"sk-toggleable__label sk-toggleable__label-arrow\">estimator: Pipeline</label><div class=\"sk-toggleable__content\"><pre>Pipeline(steps=[(&#x27;cleaner&#x27;,\n",
       "                 FunctionTransformer(func=&lt;function clean_columns at 0x0000016A75DCC280&gt;)),\n",
       "                (&#x27;imputer&#x27;,\n",
       "                 FunctionTransformer(func=&lt;function impute_values at 0x0000016A72742D30&gt;)),\n",
       "                (&#x27;droper&#x27;,\n",
       "                 FunctionTransformer(func=&lt;function drop_columns at 0x0000016A78BB9D30&gt;)),\n",
       "                (&#x27;numeric_encoder&#x27;,\n",
       "                 FunctionTransformer(func=&lt;function encode at 0x0000016A78BB9F70&gt;)),\n",
       "                (&#x27;one_hot_encoder&#x27;,\n",
       "                 FunctionTransformer(func=&lt;function ohe at 0x0000016A78C0F040&gt;)),\n",
       "                (&#x27;scaler&#x27;, StandardScaler()),\n",
       "                (&#x27;classifier&#x27;,\n",
       "                 LogisticRegression(max_iter=10000, random_state=50))])</pre></div></div></div><div class=\"sk-serial\"><div class=\"sk-item\"><div class=\"sk-serial\"><div class=\"sk-item\"><div class=\"sk-estimator sk-toggleable\"><input class=\"sk-toggleable__control sk-hidden--visually\" id=\"sk-estimator-id-3\" type=\"checkbox\" ><label for=\"sk-estimator-id-3\" class=\"sk-toggleable__label sk-toggleable__label-arrow\">FunctionTransformer</label><div class=\"sk-toggleable__content\"><pre>FunctionTransformer(func=&lt;function clean_columns at 0x0000016A75DCC280&gt;)</pre></div></div></div><div class=\"sk-item\"><div class=\"sk-estimator sk-toggleable\"><input class=\"sk-toggleable__control sk-hidden--visually\" id=\"sk-estimator-id-4\" type=\"checkbox\" ><label for=\"sk-estimator-id-4\" class=\"sk-toggleable__label sk-toggleable__label-arrow\">FunctionTransformer</label><div class=\"sk-toggleable__content\"><pre>FunctionTransformer(func=&lt;function impute_values at 0x0000016A72742D30&gt;)</pre></div></div></div><div class=\"sk-item\"><div class=\"sk-estimator sk-toggleable\"><input class=\"sk-toggleable__control sk-hidden--visually\" id=\"sk-estimator-id-5\" type=\"checkbox\" ><label for=\"sk-estimator-id-5\" class=\"sk-toggleable__label sk-toggleable__label-arrow\">FunctionTransformer</label><div class=\"sk-toggleable__content\"><pre>FunctionTransformer(func=&lt;function drop_columns at 0x0000016A78BB9D30&gt;)</pre></div></div></div><div class=\"sk-item\"><div class=\"sk-estimator sk-toggleable\"><input class=\"sk-toggleable__control sk-hidden--visually\" id=\"sk-estimator-id-6\" type=\"checkbox\" ><label for=\"sk-estimator-id-6\" class=\"sk-toggleable__label sk-toggleable__label-arrow\">FunctionTransformer</label><div class=\"sk-toggleable__content\"><pre>FunctionTransformer(func=&lt;function encode at 0x0000016A78BB9F70&gt;)</pre></div></div></div><div class=\"sk-item\"><div class=\"sk-estimator sk-toggleable\"><input class=\"sk-toggleable__control sk-hidden--visually\" id=\"sk-estimator-id-7\" type=\"checkbox\" ><label for=\"sk-estimator-id-7\" class=\"sk-toggleable__label sk-toggleable__label-arrow\">FunctionTransformer</label><div class=\"sk-toggleable__content\"><pre>FunctionTransformer(func=&lt;function ohe at 0x0000016A78C0F040&gt;)</pre></div></div></div><div class=\"sk-item\"><div class=\"sk-estimator sk-toggleable\"><input class=\"sk-toggleable__control sk-hidden--visually\" id=\"sk-estimator-id-8\" type=\"checkbox\" ><label for=\"sk-estimator-id-8\" class=\"sk-toggleable__label sk-toggleable__label-arrow\">StandardScaler</label><div class=\"sk-toggleable__content\"><pre>StandardScaler()</pre></div></div></div><div class=\"sk-item\"><div class=\"sk-estimator sk-toggleable\"><input class=\"sk-toggleable__control sk-hidden--visually\" id=\"sk-estimator-id-9\" type=\"checkbox\" ><label for=\"sk-estimator-id-9\" class=\"sk-toggleable__label sk-toggleable__label-arrow\">LogisticRegression</label><div class=\"sk-toggleable__content\"><pre>LogisticRegression(max_iter=10000, random_state=50)</pre></div></div></div></div></div></div></div></div></div></div></div></div>"
      ],
      "text/plain": [
       "GridSearchCV(cv=5,\n",
       "             estimator=Pipeline(steps=[('cleaner',\n",
       "                                        FunctionTransformer(func=<function clean_columns at 0x0000016A75DCC280>)),\n",
       "                                       ('imputer',\n",
       "                                        FunctionTransformer(func=<function impute_values at 0x0000016A72742D30>)),\n",
       "                                       ('droper',\n",
       "                                        FunctionTransformer(func=<function drop_columns at 0x0000016A78BB9D30>)),\n",
       "                                       ('numeric_encoder',\n",
       "                                        FunctionTransformer(func=<function encode at 0x0000016A78BB9F70>)),\n",
       "                                       ('one_hot_encoder',\n",
       "                                        FunctionTransformer(func=<function ohe at 0x0000016A78C0F040>)),\n",
       "                                       ('scaler', StandardScaler()),\n",
       "                                       ('classifier',\n",
       "                                        LogisticRegression(max_iter=10000,\n",
       "                                                           random_state=50))]),\n",
       "             param_grid={'classifier__C': [0.1, 1, 10, 100],\n",
       "                         'classifier__penalty': ['l2'],\n",
       "                         'classifier__solver': ['lbfgs', 'saga']},\n",
       "             scoring='recall')"
      ]
     },
     "metadata": {},
     "output_type": "display_data"
    }
   ],
   "source": [
    "# Specify parameters for Grid Search\n",
    "params = {\n",
    "    'classifier__C': [0.1, 1, 10, 100],             # Regularization Strength balances overfitting and underfitting\n",
    "    'classifier__penalty': ['l2'],                  # Ridge maintains all features but penalizes large coefficients\n",
    "    'classifier__solver': ['lbfgs', 'saga']         # Algorithm for optimization\n",
    "}\n",
    "\n",
    "gs = GridSearchCV(pipe, param_grid=params, cv=5, scoring='recall')\n",
    "\n",
    "# Display pipeline\n",
    "display(gs.fit(X_train, y_train))"
   ]
  },
  {
   "cell_type": "markdown",
   "metadata": {},
   "source": [
    "Here we see the steps of our pipeline.\n",
    "\n",
    "The final step is to display our test results."
   ]
  },
  {
   "cell_type": "code",
   "execution_count": 34,
   "metadata": {},
   "outputs": [
    {
     "data": {
      "text/html": [
       "<div>\n",
       "<style scoped>\n",
       "    .dataframe tbody tr th:only-of-type {\n",
       "        vertical-align: middle;\n",
       "    }\n",
       "\n",
       "    .dataframe tbody tr th {\n",
       "        vertical-align: top;\n",
       "    }\n",
       "\n",
       "    .dataframe thead th {\n",
       "        text-align: right;\n",
       "    }\n",
       "</style>\n",
       "<table border=\"1\" class=\"dataframe\">\n",
       "  <thead>\n",
       "    <tr style=\"text-align: right;\">\n",
       "      <th></th>\n",
       "      <th>Accuracy</th>\n",
       "      <th>Precision</th>\n",
       "      <th>Recall</th>\n",
       "      <th>F1</th>\n",
       "      <th>ROC-AUC</th>\n",
       "    </tr>\n",
       "  </thead>\n",
       "  <tbody>\n",
       "    <tr>\n",
       "      <th>0</th>\n",
       "      <td>0.986328</td>\n",
       "      <td>0.956522</td>\n",
       "      <td>0.967033</td>\n",
       "      <td>0.961749</td>\n",
       "      <td>0.978766</td>\n",
       "    </tr>\n",
       "  </tbody>\n",
       "</table>\n",
       "</div>"
      ],
      "text/plain": [
       "   Accuracy  Precision    Recall        F1   ROC-AUC\n",
       "0  0.986328   0.956522  0.967033  0.961749  0.978766"
      ]
     },
     "execution_count": 34,
     "metadata": {},
     "output_type": "execute_result"
    }
   ],
   "source": [
    "# Create Data Frame to display metrics of evaluation\n",
    "y_pred = gs.best_estimator_.predict(X_test)\n",
    "\n",
    "results = {\n",
    "    'Accuracy': [],\n",
    "    'Precision': [],\n",
    "    'Recall': [],\n",
    "    'F1': [],\n",
    "    'ROC-AUC': []\n",
    "}\n",
    "\n",
    "accuracy = accuracy_score(y_test, y_pred)\n",
    "precision = precision_score(y_test, y_pred)\n",
    "recall = recall_score(y_test, y_pred)\n",
    "f1 = f1_score(y_test, y_pred)\n",
    "roc_auc = roc_auc_score(y_test, y_pred)\n",
    "\n",
    "results['Accuracy'].append(accuracy)\n",
    "results['Precision'].append(precision)\n",
    "results['Recall'].append(recall)\n",
    "results['F1'].append(f1)\n",
    "results['ROC-AUC'].append(roc_auc)\n",
    "\n",
    "pd.DataFrame(results)"
   ]
  },
  {
   "cell_type": "markdown",
   "metadata": {},
   "source": [
    "These results match those from above, confirming that everything is working as intended."
   ]
  },
  {
   "cell_type": "markdown",
   "metadata": {},
   "source": [
    "## Results"
   ]
  },
  {
   "cell_type": "markdown",
   "metadata": {},
   "source": [
    "Through data preprocessing, modeling, and optimization we were able to create a Logistic Regression model with a recall score of `95% on training data` and `97% on testing data`. This means that if there are 100 people who are actually at risk, our model successfully identifies about 95-97 of them. We found that age is the largest contributing factor to depression, having an inverse relationship. The top areas that can be actively modified to lower risk of depression include work and academic pressure, job satisfaction, and financial pressure."
   ]
  },
  {
   "cell_type": "markdown",
   "metadata": {},
   "source": [
    "## Next Steps"
   ]
  },
  {
   "cell_type": "markdown",
   "metadata": {},
   "source": []
  },
  {
   "cell_type": "markdown",
   "metadata": {},
   "source": [
    "## Conclusion"
   ]
  },
  {
   "cell_type": "markdown",
   "metadata": {},
   "source": [
    "By leveraging this machine model, medical professionals can more accurately identify individuals at risk of depression based on their survey responses. Proactive communciation with patients is of utmost importance to build trust, learn which factors are contributing most to their mental health, and to provide tailored recommendations to support their wellbeing. By understanding the contributing factors to depression, medical professionals can focus on holistic care and work collaboratively with patients to promote a healthly lifestyle. This includes:\n",
    "* Establishing a positive work-life/student-life balance.\n",
    "* Creating and maintaing a healthy diet.\n",
    "* Abiding by a conducive sleep schedule.\n",
    "* Offering resources for stress management."
   ]
  }
 ],
 "metadata": {
  "kernelspec": {
   "display_name": "Cohort_Env",
   "language": "python",
   "name": "python3"
  },
  "language_info": {
   "codemirror_mode": {
    "name": "ipython",
    "version": 3
   },
   "file_extension": ".py",
   "mimetype": "text/x-python",
   "name": "python",
   "nbconvert_exporter": "python",
   "pygments_lexer": "ipython3",
   "version": "3.8.15"
  }
 },
 "nbformat": 4,
 "nbformat_minor": 2
}
