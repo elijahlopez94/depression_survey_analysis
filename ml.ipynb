{
 "cells": [
  {
   "cell_type": "code",
   "execution_count": null,
   "metadata": {
    "vscode": {
     "languageId": "plaintext"
    }
   },
   "outputs": [],
   "source": []
  },
  {
   "cell_type": "markdown",
   "metadata": {},
   "source": [
    "At first glance it looks like we can encode:\n",
    "* Working Professional or Student\n",
    "* Sleep Duration\n",
    "* Dietary Habits\n",
    "* Have you ever had suicidal thoughts ?\n",
    "* Family History of Mental Illness\n",
    "* Depression"
   ]
  }
 ],
 "metadata": {
  "language_info": {
   "name": "python"
  }
 },
 "nbformat": 4,
 "nbformat_minor": 2
}
